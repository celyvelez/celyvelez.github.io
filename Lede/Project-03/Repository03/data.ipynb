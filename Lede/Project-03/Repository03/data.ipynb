{
 "cells": [
  {
   "attachments": {},
   "cell_type": "markdown",
   "metadata": {},
   "source": [
    "## Imports"
   ]
  },
  {
   "cell_type": "code",
   "execution_count": 61,
   "metadata": {},
   "outputs": [],
   "source": [
    "import requests\n",
    "import pandas as pd"
   ]
  },
  {
   "cell_type": "code",
   "execution_count": 29,
   "metadata": {},
   "outputs": [
    {
     "data": {
      "text/plain": [
       "<Response [200]>"
      ]
     },
     "execution_count": 29,
     "metadata": {},
     "output_type": "execute_result"
    }
   ],
   "source": [
    "url1 = \"https://api.lib.harvard.edu/v2/items.json?languageText=Spanish&subject.hierarchicalGeographic.country=colombia&limit=200\"\n",
    "response1 = requests.get(url1)\n",
    "response1"
   ]
  },
  {
   "cell_type": "code",
   "execution_count": 30,
   "metadata": {},
   "outputs": [
    {
     "data": {
      "text/plain": [
       "dict_keys(['pagination', 'items'])"
      ]
     },
     "execution_count": 30,
     "metadata": {},
     "output_type": "execute_result"
    }
   ],
   "source": [
    "data1 = response1.json()\n",
    "data1.keys()"
   ]
  },
  {
   "attachments": {},
   "cell_type": "markdown",
   "metadata": {},
   "source": [
    "## Data Extraction"
   ]
  },
  {
   "attachments": {},
   "cell_type": "markdown",
   "metadata": {},
   "source": [
    "### Title"
   ]
  },
  {
   "cell_type": "code",
   "execution_count": 417,
   "metadata": {},
   "outputs": [
    {
     "data": {
      "text/plain": [
       "109"
      ]
     },
     "execution_count": 417,
     "metadata": {},
     "output_type": "execute_result"
    }
   ],
   "source": [
    "titles = []\n",
    "for el in data1[\"items\"][\"mods\"]:\n",
    "    if type(el[\"titleInfo\"]) == dict:\n",
    "        if len(el[\"titleInfo\"]) == 1:\n",
    "            com_title = el[\"titleInfo\"][\"title\"]\n",
    "        elif len(el[\"titleInfo\"]) == 2:\n",
    "            nonSort = el[\"titleInfo\"].get(\"nonSort\",\"\").strip()\n",
    "            title = el[\"titleInfo\"].get(\"title\",\"\")\n",
    "            subtitle = el[\"titleInfo\"].get(\"subTitle\",\"\")\n",
    "            if nonSort != '':\n",
    "                com_title = nonSort + ' ' + title\n",
    "            elif subtitle != '':\n",
    "                com_title = title + ': ' + subtitle\n",
    "        elif len(el[\"titleInfo\"]) == 3:\n",
    "            nonSort = el[\"titleInfo\"].get(\"nonSort\",\"\").strip()\n",
    "            title = el[\"titleInfo\"].get(\"title\",\"\")\n",
    "            subtitle = el[\"titleInfo\"].get(\"subTitle\",\"\")\n",
    "            com_title = nonSort + ' ' + title + ': ' + subtitle\n",
    "        titles.append(com_title)\n",
    "    if type(el[\"titleInfo\"]) == list:\n",
    "        if len(el[\"titleInfo\"]) == 2:\n",
    "            # print(len(el[\"titleInfo\"][0]))\n",
    "            if len(el[\"titleInfo\"][0]) == 1:\n",
    "                com_title = el[\"titleInfo\"][0][\"title\"]\n",
    "            elif len(el[\"titleInfo\"][0]) == 2:\n",
    "                nonSort = el[\"titleInfo\"][0].get(\"nonSort\",\"\").strip()\n",
    "                title = el[\"titleInfo\"][0].get(\"title\",\"\")\n",
    "                subtitle = el[\"titleInfo\"][0].get(\"subTitle\",\"\")\n",
    "                if nonSort != '':\n",
    "                    com_title = nonSort + ' ' + title\n",
    "                elif subtitle != '':\n",
    "                    com_title = title + ': ' + subtitle\n",
    "            elif len(el[\"titleInfo\"][0]) == 3:\n",
    "                nonSort = el[\"titleInfo\"][0].get(\"nonSort\",\"\").strip()\n",
    "                title = el[\"titleInfo\"][0].get(\"title\",\"\")\n",
    "                subtitle = el[\"titleInfo\"][0].get(\"subTitle\",\"\")\n",
    "                com_title = nonSort + ' ' + title + ': ' + subtitle\n",
    "        elif len(el[\"titleInfo\"]) == 3:\n",
    "            # print((el[\"titleInfo\"][0]))\n",
    "            if len(el[\"titleInfo\"][0]) == 1:\n",
    "                com_title = el[\"titleInfo\"][0][\"title\"]\n",
    "            elif len(el[\"titleInfo\"][0]) == 2:\n",
    "                nonSort = el[\"titleInfo\"][0].get(\"nonSort\",\"\").strip()\n",
    "                title = el[\"titleInfo\"][0].get(\"title\",\"\")\n",
    "                subtitle = el[\"titleInfo\"][0].get(\"subTitle\",\"\")\n",
    "                if nonSort != '':\n",
    "                    com_title = nonSort + ' ' + title\n",
    "                elif subtitle != '':\n",
    "                    com_title = title + ': ' + subtitle\n",
    "        elif len(el[\"titleInfo\"]) == 4:\n",
    "            # print((el[\"titleInfo\"][0]))\n",
    "            nonSort = el[\"titleInfo\"][0].get(\"nonSort\",\"\").strip()\n",
    "            title = el[\"titleInfo\"][0].get(\"title\",\"\")\n",
    "            subtitle = el[\"titleInfo\"][0].get(\"subTitle\",\"\")\n",
    "            if nonSort != '':\n",
    "                com_title = nonSort + ' ' + title\n",
    "            else:\n",
    "                com_title = title\n",
    "        elif len(el[\"titleInfo\"]) == 5:\n",
    "            # print((el[\"titleInfo\"][0]))\n",
    "            com_title = el[\"titleInfo\"][0][\"title\"]\n",
    "        titles.append(com_title)\n",
    "len(titles)"
   ]
  },
  {
   "attachments": {},
   "cell_type": "markdown",
   "metadata": {},
   "source": [
    "### Authors"
   ]
  },
  {
   "cell_type": "code",
   "execution_count": 419,
   "metadata": {},
   "outputs": [
    {
     "data": {
      "text/plain": [
       "109"
      ]
     },
     "execution_count": 419,
     "metadata": {},
     "output_type": "execute_result"
    }
   ],
   "source": [
    "names = []\n",
    "authors = []\n",
    "\n",
    "for el in data1[\"items\"][\"mods\"]:\n",
    "    # print(el.keys())\n",
    "    names.append(el.get('name', \"\"))\n",
    "for itm in names:\n",
    "    if itm == '':\n",
    "        author = \"No data\"\n",
    "        authors.append(author)\n",
    "    else: \n",
    "        if type(itm) == dict:\n",
    "            # print(len(itm))\n",
    "            if len(itm) == 2:\n",
    "                # print(type(itm[\"namePart\"]))\n",
    "                if type(itm[\"namePart\"]) == str:\n",
    "                    author = itm[\"namePart\"]\n",
    "                elif type(itm[\"namePart\"]) == list:\n",
    "                    author = ((itm[\"namePart\"][0]))\n",
    "            if len(itm) == 3:\n",
    "                # print(type(itm[\"namePart\"]))\n",
    "                if type(itm[\"namePart\"]) == str:\n",
    "                    author = itm[\"namePart\"]\n",
    "                elif type(itm[\"namePart\"]) == list:\n",
    "                    author = ((itm[\"namePart\"][0]))\n",
    "                    # print(itm[\"namePart\"][0])\n",
    "        elif type(itm) == list:\n",
    "            if len(itm) == 2:\n",
    "                # print(type(itm[0][\"namePart\"]))\n",
    "                if type(itm[0][\"namePart\"]) == str:\n",
    "                    author = itm[0][\"namePart\"]\n",
    "                elif type(itm[0][\"namePart\"]) == list:\n",
    "                    author = (itm[0][\"namePart\"][0])\n",
    "            elif len(itm) == 3:\n",
    "                # print(type(itm[0][\"namePart\"]))\n",
    "                if type(itm[0][\"namePart\"]) == str:\n",
    "                    author = itm[0][\"namePart\"]\n",
    "                elif type(itm[0][\"namePart\"]) == list:\n",
    "                    author = (itm[0][\"namePart\"][0])\n",
    "            if len(itm) == 4:\n",
    "                # print((itm[0][\"namePart\"]))\n",
    "                if type(itm[0][\"namePart\"]) == str:\n",
    "                    author = itm[0][\"namePart\"]\n",
    "                elif type(itm[0][\"namePart\"]) == list:\n",
    "                    author = (itm[0][\"namePart\"][0])\n",
    "            elif len(itm) == 5:\n",
    "                # print((itm[0][\"namePart\"]))\n",
    "                author = itm[0][\"namePart\"]\n",
    "        authors.append(author)\n",
    "len(authors)"
   ]
  },
  {
   "attachments": {},
   "cell_type": "markdown",
   "metadata": {},
   "source": [
    "### Type of Resource"
   ]
  },
  {
   "cell_type": "code",
   "execution_count": 377,
   "metadata": {},
   "outputs": [
    {
     "data": {
      "text/plain": [
       "109"
      ]
     },
     "execution_count": 377,
     "metadata": {},
     "output_type": "execute_result"
    }
   ],
   "source": [
    "resources = []\n",
    "for el in data1[\"items\"][\"mods\"]:\n",
    "    # print(el[\"typeOfResource\"])\n",
    "    if type(el[\"typeOfResource\"]) == str:\n",
    "        resource = el[\"typeOfResource\"]\n",
    "    else:\n",
    "        resource = el[\"typeOfResource\"][\"#text\"]\n",
    "    resources.append(resource)\n",
    "len(resources)"
   ]
  },
  {
   "attachments": {},
   "cell_type": "markdown",
   "metadata": {},
   "source": [
    "### Genre"
   ]
  },
  {
   "cell_type": "code",
   "execution_count": 422,
   "metadata": {},
   "outputs": [
    {
     "data": {
      "text/plain": [
       "109"
      ]
     },
     "execution_count": 422,
     "metadata": {},
     "output_type": "execute_result"
    }
   ],
   "source": [
    "temp_genre = []\n",
    "genres = []\n",
    "\n",
    "for el in data1[\"items\"][\"mods\"]:\n",
    "    # print(el.keys())\n",
    "    temp_genre.append(el.get('genre', \"\"))\n",
    "temp_genre\n",
    "\n",
    "for itm in temp_genre:\n",
    "    if itm == '':\n",
    "        genre = \"No data\"\n",
    "        genres.append(genre)\n",
    "    elif itm != '': \n",
    "        # print(type(itm))\n",
    "        if type(itm) == dict:\n",
    "            # print(len(itm))\n",
    "            if len(itm) == 2:\n",
    "                # print((itm.keys()))\n",
    "                genre = itm[\"#text\"]\n",
    "        elif type(itm) == list:\n",
    "            # print(len(itm)) #2 3 4 5 6 7 10\n",
    "            genre = itm[0][\"#text\"]\n",
    "        genres.append(genre)\n",
    "len(genres)\n",
    "# genres"
   ]
  },
  {
   "attachments": {},
   "cell_type": "markdown",
   "metadata": {},
   "source": [
    "### Origin Info"
   ]
  },
  {
   "cell_type": "code",
   "execution_count": 405,
   "metadata": {},
   "outputs": [
    {
     "data": {
      "text/plain": [
       "dict_keys(['place', 'publisher', 'dateIssued', 'issuance', 'frequency'])"
      ]
     },
     "execution_count": 405,
     "metadata": {},
     "output_type": "execute_result"
    }
   ],
   "source": [
    "origin_info = []\n",
    "for el in data1[\"items\"][\"mods\"]:\n",
    "    # print(el.keys())\n",
    "    origin_info.append(el.get('originInfo', \"\"))\n",
    "origin_info[0].keys()"
   ]
  },
  {
   "attachments": {},
   "cell_type": "markdown",
   "metadata": {},
   "source": [
    "### Place"
   ]
  },
  {
   "cell_type": "code",
   "execution_count": 432,
   "metadata": {},
   "outputs": [
    {
     "data": {
      "text/plain": [
       "109"
      ]
     },
     "execution_count": 432,
     "metadata": {},
     "output_type": "execute_result"
    }
   ],
   "source": [
    "places = []\n",
    "for el in data1[\"items\"][\"mods\"]:\n",
    "    if type(el[\"originInfo\"]) == dict:\n",
    "        if len(el[\"originInfo\"][\"place\"]) == 1:\n",
    "            place = el[\"originInfo\"][\"place\"][\"placeTerm\"][1][\"#text\"]\n",
    "        elif len(el[\"originInfo\"][\"place\"]) == 2:\n",
    "            place = el[\"originInfo\"][\"place\"][1][\"placeTerm\"][\"#text\"]\n",
    "        elif len(el[\"originInfo\"][\"place\"]) == 3:\n",
    "            place1 = el[\"originInfo\"][\"place\"][1][\"placeTerm\"][\"#text\"]\n",
    "            place2 = el[\"originInfo\"][\"place\"][2][\"placeTerm\"][\"#text\"]\n",
    "            place = place1 + ' - ' + place2\n",
    "        places.append(place)\n",
    "    elif type(el[\"originInfo\"]) == list:\n",
    "        place = el[\"originInfo\"][1][\"place\"][\"placeTerm\"][\"#text\"]\n",
    "        places.append(place)\n",
    "len(places)"
   ]
  },
  {
   "attachments": {},
   "cell_type": "markdown",
   "metadata": {},
   "source": [
    "### Publisher"
   ]
  },
  {
   "cell_type": "code",
   "execution_count": 460,
   "metadata": {},
   "outputs": [
    {
     "data": {
      "text/plain": [
       "109"
      ]
     },
     "execution_count": 460,
     "metadata": {},
     "output_type": "execute_result"
    }
   ],
   "source": [
    "publishers = []\n",
    "for el in data1[\"items\"][\"mods\"]:\n",
    "    if type(el[\"originInfo\"]) == dict:\n",
    "        if type(el[\"originInfo\"].get(\"publisher\",\"No data\")) == str:\n",
    "            publisher = el[\"originInfo\"].get(\"publisher\",\"No data\")\n",
    "        elif type(el[\"originInfo\"].get(\"publisher\",\"No data\")) == list:\n",
    "            publisher = el[\"originInfo\"][\"publisher\"][1]\n",
    "        publishers.append(publisher)\n",
    "    elif type(el[\"originInfo\"]) == list:\n",
    "        # print(el[\"originInfo\"][1][\"publisher\"])\n",
    "        if type(el[\"originInfo\"][1][\"publisher\"]) == str:\n",
    "            publisher = (el[\"originInfo\"][1][\"publisher\"])\n",
    "        elif type(el[\"originInfo\"][1][\"publisher\"]) == list:\n",
    "            publisher = \"No data\"\n",
    "        publishers.append(publisher)\n",
    "len(publishers)"
   ]
  },
  {
   "attachments": {},
   "cell_type": "markdown",
   "metadata": {},
   "source": [
    "### Date Issued"
   ]
  },
  {
   "cell_type": "code",
   "execution_count": 526,
   "metadata": {},
   "outputs": [
    {
     "data": {
      "text/plain": [
       "109"
      ]
     },
     "execution_count": 526,
     "metadata": {},
     "output_type": "execute_result"
    }
   ],
   "source": [
    "dates = []\n",
    "for el in data1[\"items\"][\"mods\"]:\n",
    "    if type(el[\"originInfo\"]) == dict:\n",
    "        if type(el[\"originInfo\"][\"dateIssued\"]) == str:\n",
    "            date = el[\"originInfo\"][\"dateIssued\"]\n",
    "        elif type(el[\"originInfo\"][\"dateIssued\"]) == list:\n",
    "            if len(el[\"originInfo\"][\"dateIssued\"]) == 2:\n",
    "                if type(el[\"originInfo\"][\"dateIssued\"][0]) == str:\n",
    "                    date = ((el[\"originInfo\"][\"dateIssued\"][1][\"#text\"]))\n",
    "                elif type(el[\"originInfo\"][\"dateIssued\"][0]) == dict:\n",
    "                    d_start = el[\"originInfo\"][\"dateIssued\"][0][\"#text\"]\n",
    "                    d_end = el[\"originInfo\"][\"dateIssued\"][1][\"#text\"]\n",
    "                    date = d_start + \" - \" + d_end\n",
    "            elif len(el[\"originInfo\"][\"dateIssued\"]) == 3:\n",
    "                d_start = el[\"originInfo\"][\"dateIssued\"][1][\"#text\"]\n",
    "                d_end = el[\"originInfo\"][\"dateIssued\"][2][\"#text\"]\n",
    "                date = d_start + \" - \" + d_end\n",
    "        dates.append(date)\n",
    "    elif type(el[\"originInfo\"]) == list:\n",
    "        # print(el[\"originInfo\"][1][\"dateIssued\"])\n",
    "        if type(el[\"originInfo\"][1][\"dateIssued\"]) == str:\n",
    "            date = el[\"originInfo\"][1][\"dateIssued\"].strip(\".\").strip(\"⁰\")\n",
    "        elif type(el[\"originInfo\"][1][\"dateIssued\"]) == list:\n",
    "            date = (el[\"originInfo\"][1][\"dateIssued\"][0])\n",
    "        dates.append(date)\n",
    "len(dates)\n"
   ]
  },
  {
   "attachments": {},
   "cell_type": "markdown",
   "metadata": {},
   "source": [
    "### Content"
   ]
  },
  {
   "cell_type": "code",
   "execution_count": 535,
   "metadata": {},
   "outputs": [
    {
     "data": {
      "text/plain": [
       "109"
      ]
     },
     "execution_count": 535,
     "metadata": {},
     "output_type": "execute_result"
    }
   ],
   "source": [
    "content =[]\n",
    "for el in data1[\"items\"][\"mods\"]:\n",
    "    extent = (el[\"physicalDescription\"].get(\"extent\",\"\"))\n",
    "    content.append(extent)\n",
    "len(content)"
   ]
  },
  {
   "attachments": {},
   "cell_type": "markdown",
   "metadata": {},
   "source": [
    "### Notes"
   ]
  },
  {
   "cell_type": "code",
   "execution_count": 538,
   "metadata": {},
   "outputs": [],
   "source": [
    "notes =[]\n",
    "for el in data1[\"items\"][\"mods\"]:\n",
    "    note = (el.get(\"note\",\"\"))"
   ]
  },
  {
   "attachments": {},
   "cell_type": "markdown",
   "metadata": {},
   "source": [
    "### Subject"
   ]
  },
  {
   "cell_type": "code",
   "execution_count": 623,
   "metadata": {},
   "outputs": [
    {
     "data": {
      "text/plain": [
       "109"
      ]
     },
     "execution_count": 623,
     "metadata": {},
     "output_type": "execute_result"
    }
   ],
   "source": [
    "subjects =[]\n",
    "for el in data1[\"items\"][\"mods\"]:\n",
    "    if type(el[\"subject\"]) == dict:\n",
    "        topic = \"No data\"\n",
    "        subjects.append(topic)\n",
    "    elif type(el[\"subject\"]) == list: #2 3 4 5 6 7 8 9 10 12\n",
    "        if len(el[\"subject\"]) == 2:\n",
    "            # print((el[\"subject\"][0].get(\"topic\",\"No Data\")))\n",
    "            if type(el[\"subject\"][0].get(\"topic\",\"No Data\")) == str:\n",
    "                topic = el[\"subject\"][0].get(\"topic\",\"No Data\")\n",
    "            elif type(el[\"subject\"][0].get(\"topic\",\"No Data\")) == list:\n",
    "                topic = el[\"subject\"][0][\"topic\"][1]\n",
    "            subjects.append(topic)\n",
    "        elif len(el[\"subject\"]) == 3:\n",
    "            if el[\"subject\"][0].get(\"topic\",\"\") != \"\":\n",
    "                topic = (el[\"subject\"][0][\"topic\"])\n",
    "            elif el[\"subject\"][1].get(\"topic\",\"\") != \"\":\n",
    "                if type(el[\"subject\"][1][\"topic\"]) == str:\n",
    "                    topic = (el[\"subject\"][1][\"topic\"])\n",
    "                elif type(el[\"subject\"][1][\"topic\"]) == list:\n",
    "                    topic = (el[\"subject\"][1][\"topic\"][1])\n",
    "            subjects.append(topic)\n",
    "        elif len(el[\"subject\"]) == 4:\n",
    "            if el[\"subject\"][0].get(\"topic\",\"\") != \"\":\n",
    "                if type(el[\"subject\"][0][\"topic\"]) == str:\n",
    "                    topic = (el[\"subject\"][0][\"topic\"])\n",
    "                elif type(el[\"subject\"][0][\"topic\"]) == list:\n",
    "                    topic = (el[\"subject\"][0][\"topic\"][1])\n",
    "            elif el[\"subject\"][1].get(\"topic\",\"\") != \"\":\n",
    "                if type(el[\"subject\"][1][\"topic\"]) == str:\n",
    "                    topic = (el[\"subject\"][1][\"topic\"])\n",
    "                elif type(el[\"subject\"][1][\"topic\"]) == list:\n",
    "                    topic = (el[\"subject\"][1][\"topic\"][1])\n",
    "            elif el[\"subject\"][2].get(\"topic\",\"\") != \"\":\n",
    "                if type(el[\"subject\"][2][\"topic\"]) == str:\n",
    "                    topic = (el[\"subject\"][2][\"topic\"])\n",
    "                elif type(el[\"subject\"][2][\"topic\"]) == list:\n",
    "                    topic = (el[\"subject\"][2][\"topic\"][1])\n",
    "            subjects.append(topic)\n",
    "        elif len(el[\"subject\"]) == 5:\n",
    "            if el[\"subject\"][0].get(\"topic\",\"\") != \"\":\n",
    "                if type(el[\"subject\"][0][\"topic\"]) == str:\n",
    "                    topic = (el[\"subject\"][0][\"topic\"])\n",
    "                elif type(el[\"subject\"][0][\"topic\"]) == list:\n",
    "                    topic = (el[\"subject\"][0][\"topic\"][1])\n",
    "            elif el[\"subject\"][1].get(\"topic\",\"\") != \"\":\n",
    "                if type(el[\"subject\"][1][\"topic\"]) == str:\n",
    "                    topic = (el[\"subject\"][1][\"topic\"])\n",
    "                elif type(el[\"subject\"][1][\"topic\"]) == list:\n",
    "                    topic = (el[\"subject\"][1][\"topic\"][1])\n",
    "            elif el[\"subject\"][2].get(\"topic\",\"\") != \"\":\n",
    "                if type(el[\"subject\"][2][\"topic\"]) == str:\n",
    "                    topic = (el[\"subject\"][2][\"topic\"])\n",
    "                elif type(el[\"subject\"][2][\"topic\"]) == list:\n",
    "                    topic = (el[\"subject\"][2][\"topic\"][1])\n",
    "            elif el[\"subject\"][3].get(\"topic\",\"\") != \"\":\n",
    "                if type(el[\"subject\"][3][\"topic\"]) == str:\n",
    "                    topic = (el[\"subject\"][3][\"topic\"])\n",
    "                elif type(el[\"subject\"][3][\"topic\"]) == list:\n",
    "                    topic = (el[\"subject\"][3][\"topic\"][1])\n",
    "            subjects.append(topic)\n",
    "        elif len(el[\"subject\"]) == 6:\n",
    "            if el[\"subject\"][0].get(\"topic\",\"\") != \"\":\n",
    "                if type(el[\"subject\"][0][\"topic\"]) == str:\n",
    "                    topic = (el[\"subject\"][0][\"topic\"])\n",
    "                elif type(el[\"subject\"][0][\"topic\"]) == list:\n",
    "                    topic = (el[\"subject\"][0][\"topic\"][1])\n",
    "            elif el[\"subject\"][1].get(\"topic\",\"\") != \"\":\n",
    "                if type(el[\"subject\"][1][\"topic\"]) == str:\n",
    "                    topic = (el[\"subject\"][1][\"topic\"])\n",
    "                elif type(el[\"subject\"][1][\"topic\"]) == list:\n",
    "                    topic = (el[\"subject\"][1][\"topic\"][1])\n",
    "            elif el[\"subject\"][2].get(\"topic\",\"\") != \"\":\n",
    "                if type(el[\"subject\"][2][\"topic\"]) == str:\n",
    "                    topic = (el[\"subject\"][2][\"topic\"])\n",
    "                elif type(el[\"subject\"][2][\"topic\"]) == list:\n",
    "                    topic = (el[\"subject\"][2][\"topic\"][1])\n",
    "            elif el[\"subject\"][3].get(\"topic\",\"\") != \"\":\n",
    "                if type(el[\"subject\"][3][\"topic\"]) == str:\n",
    "                    topic = (el[\"subject\"][3][\"topic\"])\n",
    "                elif type(el[\"subject\"][3][\"topic\"]) == list:\n",
    "                    topic = (el[\"subject\"][3][\"topic\"][1])\n",
    "            elif el[\"subject\"][4].get(\"topic\",\"\") != \"\":\n",
    "                if type(el[\"subject\"][4][\"topic\"]) == str:\n",
    "                    topic = (el[\"subject\"][4][\"topic\"])\n",
    "                elif type(el[\"subject\"][4][\"topic\"]) == list:\n",
    "                    topic = (el[\"subject\"][4][\"topic\"][1])\n",
    "            subjects.append(topic)\n",
    "        elif len(el[\"subject\"]) == 7:\n",
    "            if el[\"subject\"][0].get(\"topic\",\"\") != \"\":\n",
    "                if type(el[\"subject\"][0][\"topic\"]) == str:\n",
    "                    topic = (el[\"subject\"][0][\"topic\"])\n",
    "                elif type(el[\"subject\"][0][\"topic\"]) == list:\n",
    "                    topic = (el[\"subject\"][0][\"topic\"][1])\n",
    "            elif el[\"subject\"][1].get(\"topic\",\"\") != \"\":\n",
    "                if type(el[\"subject\"][1][\"topic\"]) == str:\n",
    "                    topic = (el[\"subject\"][1][\"topic\"])\n",
    "                elif type(el[\"subject\"][1][\"topic\"]) == list:\n",
    "                    topic = (el[\"subject\"][1][\"topic\"][1])\n",
    "            elif el[\"subject\"][2].get(\"topic\",\"\") != \"\":\n",
    "                if type(el[\"subject\"][2][\"topic\"]) == str:\n",
    "                    topic = (el[\"subject\"][2][\"topic\"])\n",
    "                elif type(el[\"subject\"][2][\"topic\"]) == list:\n",
    "                    topic = (el[\"subject\"][2][\"topic\"][1])\n",
    "            elif el[\"subject\"][3].get(\"topic\",\"\") != \"\":\n",
    "                if type(el[\"subject\"][3][\"topic\"]) == str:\n",
    "                    topic = (el[\"subject\"][3][\"topic\"])\n",
    "                elif type(el[\"subject\"][3][\"topic\"]) == list:\n",
    "                    topic = (el[\"subject\"][3][\"topic\"][1])\n",
    "            elif el[\"subject\"][4].get(\"topic\",\"\") != \"\":\n",
    "                if type(el[\"subject\"][4][\"topic\"]) == str:\n",
    "                    topic = (el[\"subject\"][4][\"topic\"])\n",
    "                elif type(el[\"subject\"][4][\"topic\"]) == list:\n",
    "                    topic = (el[\"subject\"][4][\"topic\"][1])\n",
    "            elif el[\"subject\"][5].get(\"topic\",\"\") != \"\":\n",
    "                if type(el[\"subject\"][5][\"topic\"]) == str:\n",
    "                    topic = (el[\"subject\"][5][\"topic\"])\n",
    "                elif type(el[\"subject\"][5][\"topic\"]) == list:\n",
    "                    topic = (el[\"subject\"][5][\"topic\"][1])\n",
    "            subjects.append(topic)\n",
    "        elif len(el[\"subject\"]) == 8:\n",
    "            if el[\"subject\"][0].get(\"topic\",\"\") != \"\":\n",
    "                if type(el[\"subject\"][0][\"topic\"]) == str:\n",
    "                    topic = (el[\"subject\"][0][\"topic\"])\n",
    "                elif type(el[\"subject\"][0][\"topic\"]) == list:\n",
    "                    topic = (el[\"subject\"][0][\"topic\"][1])\n",
    "            elif el[\"subject\"][1].get(\"topic\",\"\") != \"\":\n",
    "                if type(el[\"subject\"][1][\"topic\"]) == str:\n",
    "                    topic = (el[\"subject\"][1][\"topic\"])\n",
    "                elif type(el[\"subject\"][1][\"topic\"]) == list:\n",
    "                    topic = (el[\"subject\"][1][\"topic\"][1])\n",
    "            elif el[\"subject\"][2].get(\"topic\",\"\") != \"\":\n",
    "                if type(el[\"subject\"][2][\"topic\"]) == str:\n",
    "                    topic = (el[\"subject\"][2][\"topic\"])\n",
    "                elif type(el[\"subject\"][2][\"topic\"]) == list:\n",
    "                    topic = (el[\"subject\"][2][\"topic\"][1])\n",
    "            elif el[\"subject\"][3].get(\"topic\",\"\") != \"\":\n",
    "                if type(el[\"subject\"][3][\"topic\"]) == str:\n",
    "                    topic = (el[\"subject\"][3][\"topic\"])\n",
    "                elif type(el[\"subject\"][3][\"topic\"]) == list:\n",
    "                    topic = (el[\"subject\"][3][\"topic\"][1])\n",
    "            elif el[\"subject\"][4].get(\"topic\",\"\") != \"\":\n",
    "                if type(el[\"subject\"][4][\"topic\"]) == str:\n",
    "                    topic = (el[\"subject\"][4][\"topic\"])\n",
    "                elif type(el[\"subject\"][4][\"topic\"]) == list:\n",
    "                    topic = (el[\"subject\"][4][\"topic\"][1])\n",
    "            elif el[\"subject\"][5].get(\"topic\",\"\") != \"\":\n",
    "                if type(el[\"subject\"][5][\"topic\"]) == str:\n",
    "                    topic = (el[\"subject\"][5][\"topic\"])\n",
    "                elif type(el[\"subject\"][5][\"topic\"]) == list:\n",
    "                    topic = (el[\"subject\"][5][\"topic\"][1])\n",
    "            elif el[\"subject\"][6].get(\"topic\",\"\") != \"\":\n",
    "                if type(el[\"subject\"][6][\"topic\"]) == str:\n",
    "                    topic = (el[\"subject\"][6][\"topic\"])\n",
    "                elif type(el[\"subject\"][6][\"topic\"]) == list:\n",
    "                    topic = (el[\"subject\"][6][\"topic\"][1])\n",
    "            subjects.append(topic)\n",
    "        elif len(el[\"subject\"]) == 9:\n",
    "            if el[\"subject\"][0].get(\"topic\",\"\") != \"\":\n",
    "                if type(el[\"subject\"][0][\"topic\"]) == str:\n",
    "                    topic = (el[\"subject\"][0][\"topic\"])\n",
    "                elif type(el[\"subject\"][0][\"topic\"]) == list:\n",
    "                    topic = (el[\"subject\"][0][\"topic\"][1])\n",
    "            elif el[\"subject\"][1].get(\"topic\",\"\") != \"\":\n",
    "                if type(el[\"subject\"][1][\"topic\"]) == str:\n",
    "                    topic = (el[\"subject\"][1][\"topic\"])\n",
    "                elif type(el[\"subject\"][1][\"topic\"]) == list:\n",
    "                    topic = (el[\"subject\"][1][\"topic\"][1])\n",
    "            elif el[\"subject\"][2].get(\"topic\",\"\") != \"\":\n",
    "                if type(el[\"subject\"][2][\"topic\"]) == str:\n",
    "                    topic = (el[\"subject\"][2][\"topic\"])\n",
    "                elif type(el[\"subject\"][2][\"topic\"]) == list:\n",
    "                    topic = (el[\"subject\"][2][\"topic\"][1])\n",
    "            elif el[\"subject\"][3].get(\"topic\",\"\") != \"\":\n",
    "                if type(el[\"subject\"][3][\"topic\"]) == str:\n",
    "                    topic = (el[\"subject\"][3][\"topic\"])\n",
    "                elif type(el[\"subject\"][3][\"topic\"]) == list:\n",
    "                    topic = (el[\"subject\"][3][\"topic\"][1])\n",
    "            elif el[\"subject\"][4].get(\"topic\",\"\") != \"\":\n",
    "                if type(el[\"subject\"][4][\"topic\"]) == str:\n",
    "                    topic = (el[\"subject\"][4][\"topic\"])\n",
    "                elif type(el[\"subject\"][4][\"topic\"]) == list:\n",
    "                    topic = (el[\"subject\"][4][\"topic\"][1])\n",
    "            elif el[\"subject\"][5].get(\"topic\",\"\") != \"\":\n",
    "                if type(el[\"subject\"][5][\"topic\"]) == str:\n",
    "                    topic = (el[\"subject\"][5][\"topic\"])\n",
    "                elif type(el[\"subject\"][5][\"topic\"]) == list:\n",
    "                    topic = (el[\"subject\"][5][\"topic\"][1])\n",
    "            elif el[\"subject\"][6].get(\"topic\",\"\") != \"\":\n",
    "                if type(el[\"subject\"][6][\"topic\"]) == str:\n",
    "                    topic = (el[\"subject\"][6][\"topic\"])\n",
    "                elif type(el[\"subject\"][6][\"topic\"]) == list:\n",
    "                    topic = (el[\"subject\"][6][\"topic\"][1])\n",
    "            elif el[\"subject\"][7].get(\"topic\",\"\") != \"\":\n",
    "                if type(el[\"subject\"][7][\"topic\"]) == str:\n",
    "                    topic = (el[\"subject\"][7][\"topic\"])\n",
    "                elif type(el[\"subject\"][7][\"topic\"]) == list:\n",
    "                    topic = (el[\"subject\"][7][\"topic\"][1])\n",
    "            subjects.append(topic)\n",
    "        elif len(el[\"subject\"]) == 10:\n",
    "            if el[\"subject\"][0].get(\"topic\",\"\") != \"\":\n",
    "                if type(el[\"subject\"][0][\"topic\"]) == str:\n",
    "                    topic = (el[\"subject\"][0][\"topic\"])\n",
    "                elif type(el[\"subject\"][0][\"topic\"]) == list:\n",
    "                    topic = (el[\"subject\"][0][\"topic\"][1])\n",
    "            elif el[\"subject\"][1].get(\"topic\",\"\") != \"\":\n",
    "                if type(el[\"subject\"][1][\"topic\"]) == str:\n",
    "                    topic = (el[\"subject\"][1][\"topic\"])\n",
    "                elif type(el[\"subject\"][1][\"topic\"]) == list:\n",
    "                    topic = (el[\"subject\"][1][\"topic\"][1])\n",
    "            elif el[\"subject\"][2].get(\"topic\",\"\") != \"\":\n",
    "                if type(el[\"subject\"][2][\"topic\"]) == str:\n",
    "                    topic = (el[\"subject\"][2][\"topic\"])\n",
    "                elif type(el[\"subject\"][2][\"topic\"]) == list:\n",
    "                    topic = (el[\"subject\"][2][\"topic\"][1])\n",
    "            elif el[\"subject\"][3].get(\"topic\",\"\") != \"\":\n",
    "                if type(el[\"subject\"][3][\"topic\"]) == str:\n",
    "                    topic = (el[\"subject\"][3][\"topic\"])\n",
    "                elif type(el[\"subject\"][3][\"topic\"]) == list:\n",
    "                    topic = (el[\"subject\"][3][\"topic\"][1])\n",
    "            elif el[\"subject\"][4].get(\"topic\",\"\") != \"\":\n",
    "                if type(el[\"subject\"][4][\"topic\"]) == str:\n",
    "                    topic = (el[\"subject\"][4][\"topic\"])\n",
    "                elif type(el[\"subject\"][4][\"topic\"]) == list:\n",
    "                    topic = (el[\"subject\"][4][\"topic\"][1])\n",
    "            elif el[\"subject\"][5].get(\"topic\",\"\") != \"\":\n",
    "                if type(el[\"subject\"][5][\"topic\"]) == str:\n",
    "                    topic = (el[\"subject\"][5][\"topic\"])\n",
    "                elif type(el[\"subject\"][5][\"topic\"]) == list:\n",
    "                    topic = (el[\"subject\"][5][\"topic\"][1])\n",
    "            elif el[\"subject\"][6].get(\"topic\",\"\") != \"\":\n",
    "                if type(el[\"subject\"][6][\"topic\"]) == str:\n",
    "                    topic = (el[\"subject\"][6][\"topic\"])\n",
    "                elif type(el[\"subject\"][6][\"topic\"]) == list:\n",
    "                    topic = (el[\"subject\"][6][\"topic\"][1])\n",
    "            elif el[\"subject\"][7].get(\"topic\",\"\") != \"\":\n",
    "                if type(el[\"subject\"][7][\"topic\"]) == str:\n",
    "                    topic = (el[\"subject\"][7][\"topic\"])\n",
    "                elif type(el[\"subject\"][7][\"topic\"]) == list:\n",
    "                    topic = (el[\"subject\"][7][\"topic\"][1])\n",
    "            elif el[\"subject\"][8].get(\"topic\",\"\") != \"\":\n",
    "                if type(el[\"subject\"][8][\"topic\"]) == str:\n",
    "                    topic = (el[\"subject\"][8][\"topic\"])\n",
    "                elif type(el[\"subject\"][8][\"topic\"]) == list:\n",
    "                    topic = (el[\"subject\"][8][\"topic\"][1])\n",
    "            subjects.append(topic)\n",
    "        elif len(el[\"subject\"]) == 12:\n",
    "            if el[\"subject\"][0].get(\"topic\",\"\") != \"\":\n",
    "                if type(el[\"subject\"][0][\"topic\"]) == str:\n",
    "                    topic = (el[\"subject\"][0][\"topic\"])\n",
    "                elif type(el[\"subject\"][0][\"topic\"]) == list:\n",
    "                    topic = (el[\"subject\"][0][\"topic\"][1])\n",
    "            elif el[\"subject\"][1].get(\"topic\",\"\") != \"\":\n",
    "                if type(el[\"subject\"][1][\"topic\"]) == str:\n",
    "                    topic = (el[\"subject\"][1][\"topic\"])\n",
    "                elif type(el[\"subject\"][1][\"topic\"]) == list:\n",
    "                    topic = (el[\"subject\"][1][\"topic\"][1])\n",
    "            elif el[\"subject\"][2].get(\"topic\",\"\") != \"\":\n",
    "                if type(el[\"subject\"][2][\"topic\"]) == str:\n",
    "                    topic = (el[\"subject\"][2][\"topic\"])\n",
    "                elif type(el[\"subject\"][2][\"topic\"]) == list:\n",
    "                    topic = (el[\"subject\"][2][\"topic\"][1])\n",
    "            elif el[\"subject\"][3].get(\"topic\",\"\") != \"\":\n",
    "                if type(el[\"subject\"][3][\"topic\"]) == str:\n",
    "                    topic = (el[\"subject\"][3][\"topic\"])\n",
    "                elif type(el[\"subject\"][3][\"topic\"]) == list:\n",
    "                    topic = (el[\"subject\"][3][\"topic\"][1])\n",
    "            elif el[\"subject\"][4].get(\"topic\",\"\") != \"\":\n",
    "                if type(el[\"subject\"][4][\"topic\"]) == str:\n",
    "                    topic = (el[\"subject\"][4][\"topic\"])\n",
    "                elif type(el[\"subject\"][4][\"topic\"]) == list:\n",
    "                    topic = (el[\"subject\"][4][\"topic\"][1])\n",
    "            elif el[\"subject\"][5].get(\"topic\",\"\") != \"\":\n",
    "                if type(el[\"subject\"][5][\"topic\"]) == str:\n",
    "                    topic = (el[\"subject\"][5][\"topic\"])\n",
    "                elif type(el[\"subject\"][5][\"topic\"]) == list:\n",
    "                    topic = (el[\"subject\"][5][\"topic\"][1])\n",
    "            elif el[\"subject\"][6].get(\"topic\",\"\") != \"\":\n",
    "                if type(el[\"subject\"][6][\"topic\"]) == str:\n",
    "                    topic = (el[\"subject\"][6][\"topic\"])\n",
    "                elif type(el[\"subject\"][6][\"topic\"]) == list:\n",
    "                    topic = (el[\"subject\"][6][\"topic\"][1])\n",
    "            elif el[\"subject\"][7].get(\"topic\",\"\") != \"\":\n",
    "                if type(el[\"subject\"][7][\"topic\"]) == str:\n",
    "                    topic = (el[\"subject\"][7][\"topic\"])\n",
    "                elif type(el[\"subject\"][7][\"topic\"]) == list:\n",
    "                    topic = (el[\"subject\"][7][\"topic\"][1])\n",
    "            elif el[\"subject\"][8].get(\"topic\",\"\") != \"\":\n",
    "                if type(el[\"subject\"][8][\"topic\"]) == str:\n",
    "                    topic = (el[\"subject\"][8][\"topic\"])\n",
    "                elif type(el[\"subject\"][8][\"topic\"]) == list:\n",
    "                    topic = (el[\"subject\"][8][\"topic\"][1])\n",
    "            elif el[\"subject\"][9].get(\"topic\",\"\") != \"\":\n",
    "                if type(el[\"subject\"][9][\"topic\"]) == str:\n",
    "                    topic = (el[\"subject\"][9][\"topic\"])\n",
    "                elif type(el[\"subject\"][9][\"topic\"]) == list:\n",
    "                    topic = (el[\"subject\"][9][\"topic\"][1])\n",
    "            elif el[\"subject\"][10].get(\"topic\",\"\") != \"\":\n",
    "                if type(el[\"subject\"][10][\"topic\"]) == str:\n",
    "                    topic = (el[\"subject\"][10][\"topic\"])\n",
    "                elif type(el[\"subject\"][10][\"topic\"]) == list:\n",
    "                    topic = (el[\"subject\"][10][\"topic\"][1])\n",
    "            subjects.append(topic)\n",
    "            # print(topic)\n",
    "\n",
    "len(subjects)"
   ]
  },
  {
   "attachments": {},
   "cell_type": "markdown",
   "metadata": {},
   "source": [
    "### Repositories"
   ]
  },
  {
   "cell_type": "code",
   "execution_count": 659,
   "metadata": {},
   "outputs": [
    {
     "data": {
      "text/plain": [
       "109"
      ]
     },
     "execution_count": 659,
     "metadata": {},
     "output_type": "execute_result"
    }
   ],
   "source": [
    "repositories = []\n",
    "for el in data1[\"items\"][\"mods\"]:\n",
    "    if type(el[\"location\"][0]) == dict:\n",
    "        repository = ((el[\"location\"][0][\"physicalLocation\"][\"#text\"]))\n",
    "        repositories.append(repository)\n",
    "    else:\n",
    "        repository = \"No data\"\n",
    "        repositories.append(repository)\n",
    "len(repositories)"
   ]
  },
  {
   "attachments": {},
   "cell_type": "markdown",
   "metadata": {},
   "source": [
    "## Data Frame"
   ]
  },
  {
   "cell_type": "code",
   "execution_count": 664,
   "metadata": {},
   "outputs": [],
   "source": [
    "df = pd.DataFrame()"
   ]
  },
  {
   "cell_type": "code",
   "execution_count": 666,
   "metadata": {},
   "outputs": [
    {
     "data": {
      "text/html": [
       "<div>\n",
       "<style scoped>\n",
       "    .dataframe tbody tr th:only-of-type {\n",
       "        vertical-align: middle;\n",
       "    }\n",
       "\n",
       "    .dataframe tbody tr th {\n",
       "        vertical-align: top;\n",
       "    }\n",
       "\n",
       "    .dataframe thead th {\n",
       "        text-align: right;\n",
       "    }\n",
       "</style>\n",
       "<table border=\"1\" class=\"dataframe\">\n",
       "  <thead>\n",
       "    <tr style=\"text-align: right;\">\n",
       "      <th></th>\n",
       "      <th>title</th>\n",
       "      <th>author</th>\n",
       "      <th>resource</th>\n",
       "      <th>genre</th>\n",
       "      <th>place</th>\n",
       "      <th>publisher</th>\n",
       "      <th>date</th>\n",
       "      <th>content</th>\n",
       "      <th>topic</th>\n",
       "      <th>repository</th>\n",
       "    </tr>\n",
       "  </thead>\n",
       "  <tbody>\n",
       "    <tr>\n",
       "      <th>0</th>\n",
       "      <td>El tiempo</td>\n",
       "      <td>No data</td>\n",
       "      <td>text</td>\n",
       "      <td>text</td>\n",
       "      <td>Bogotá, Colombia</td>\n",
       "      <td>A.V. Restrepo</td>\n",
       "      <td>1911 - 1955</td>\n",
       "      <td>45 volumes : illustrations ; 57 cm</td>\n",
       "      <td>Rites and ceremonies</td>\n",
       "      <td>Widener Library, Harvard University</td>\n",
       "    </tr>\n",
       "    <tr>\n",
       "      <th>1</th>\n",
       "      <td>El nuevo tiempo</td>\n",
       "      <td>No data</td>\n",
       "      <td>text</td>\n",
       "      <td>No data</td>\n",
       "      <td>Bogotá</td>\n",
       "      <td>Ismael Enrique Arciniegas</td>\n",
       "      <td>1902 - uuuu</td>\n",
       "      <td>v. : ill.</td>\n",
       "      <td>Rites and ceremonies</td>\n",
       "      <td>Widener Library, Harvard University</td>\n",
       "    </tr>\n",
       "    <tr>\n",
       "      <th>2</th>\n",
       "      <td>El tiempo</td>\n",
       "      <td>No data</td>\n",
       "      <td>text</td>\n",
       "      <td>Newspapers</td>\n",
       "      <td>Bogotá, Colombia</td>\n",
       "      <td>R. Garcia-Peña</td>\n",
       "      <td>1957 - 9999</td>\n",
       "      <td>v. : ill. ; 58 cm.</td>\n",
       "      <td>Périodiques</td>\n",
       "      <td>No data</td>\n",
       "    </tr>\n",
       "    <tr>\n",
       "      <th>3</th>\n",
       "      <td>Salome, princesa de Galilea</td>\n",
       "      <td>Denker, Henry</td>\n",
       "      <td>text</td>\n",
       "      <td>No data</td>\n",
       "      <td>Bogotá</td>\n",
       "      <td>Edicol</td>\n",
       "      <td>1973</td>\n",
       "      <td>270 p. ; 18 cm.</td>\n",
       "      <td>No data</td>\n",
       "      <td>Widener Library, Harvard University</td>\n",
       "    </tr>\n",
       "    <tr>\n",
       "      <th>4</th>\n",
       "      <td>El General en su laberinto</td>\n",
       "      <td>García Márquez, Gabriel</td>\n",
       "      <td>text</td>\n",
       "      <td>Fiction</td>\n",
       "      <td>Bogotá, Colombia</td>\n",
       "      <td>Editorial Oveja Negra</td>\n",
       "      <td>1989</td>\n",
       "      <td>284 p., [1] leaf of plates : map ; 23 cm.</td>\n",
       "      <td>No Data</td>\n",
       "      <td>Houghton Library, Harvard University</td>\n",
       "    </tr>\n",
       "    <tr>\n",
       "      <th>...</th>\n",
       "      <td>...</td>\n",
       "      <td>...</td>\n",
       "      <td>...</td>\n",
       "      <td>...</td>\n",
       "      <td>...</td>\n",
       "      <td>...</td>\n",
       "      <td>...</td>\n",
       "      <td>...</td>\n",
       "      <td>...</td>\n",
       "      <td>...</td>\n",
       "    </tr>\n",
       "    <tr>\n",
       "      <th>104</th>\n",
       "      <td>Republica de Colombia: Simon Bolivar, presiden...</td>\n",
       "      <td>Bolívar, Simón</td>\n",
       "      <td>text</td>\n",
       "      <td>government publication</td>\n",
       "      <td>[Bogotá, Colombia] :</td>\n",
       "      <td>[publisher not identified],</td>\n",
       "      <td>1826</td>\n",
       "      <td>1 sheet (1 unnumbered page) ; 31 x 22 cm</td>\n",
       "      <td>History</td>\n",
       "      <td>Houghton Library, Harvard University</td>\n",
       "    </tr>\n",
       "    <tr>\n",
       "      <th>105</th>\n",
       "      <td>Simon Bolivar, presidente libertador de la Col...</td>\n",
       "      <td>Bolívar, Simón</td>\n",
       "      <td>text</td>\n",
       "      <td>government publication</td>\n",
       "      <td>Bogotá, Colombia :</td>\n",
       "      <td>Imp. de M.M. Viller-Calderon,</td>\n",
       "      <td>1826</td>\n",
       "      <td>1 sheet (1 unnumbered page) ; 31 x 22 cm</td>\n",
       "      <td>History</td>\n",
       "      <td>Houghton Library, Harvard University</td>\n",
       "    </tr>\n",
       "    <tr>\n",
       "      <th>106</th>\n",
       "      <td>Acuerdo final para la terminación del conflict...</td>\n",
       "      <td>Colombia</td>\n",
       "      <td>text</td>\n",
       "      <td>government publication</td>\n",
       "      <td>Bogata</td>\n",
       "      <td>Ministerio de Cultura-Biblioteca Nacional de C...</td>\n",
       "      <td>2016</td>\n",
       "      <td>[2], 283, [7] pages ; 28 cm.</td>\n",
       "      <td>Politics and government</td>\n",
       "      <td>Harvard Law School Library, Harvard University</td>\n",
       "    </tr>\n",
       "    <tr>\n",
       "      <th>107</th>\n",
       "      <td>El Colombiano</td>\n",
       "      <td>No data</td>\n",
       "      <td>text</td>\n",
       "      <td>No data</td>\n",
       "      <td>Medellín, Colombia</td>\n",
       "      <td>F.G. Martinez</td>\n",
       "      <td>1912 - 9999</td>\n",
       "      <td>1 online resource</td>\n",
       "      <td>No data</td>\n",
       "      <td>No data</td>\n",
       "    </tr>\n",
       "    <tr>\n",
       "      <th>108</th>\n",
       "      <td>Mujer</td>\n",
       "      <td>Sánchez Sánchez, Alejandra</td>\n",
       "      <td>text</td>\n",
       "      <td>still image</td>\n",
       "      <td>Bogotá, Colombia :</td>\n",
       "      <td>Ediciones USTA,</td>\n",
       "      <td>2019</td>\n",
       "      <td>[10] leaves : illustrations ; 25 cm</td>\n",
       "      <td>Rites and ceremonies</td>\n",
       "      <td>Widener Library, Harvard University</td>\n",
       "    </tr>\n",
       "  </tbody>\n",
       "</table>\n",
       "<p>109 rows × 10 columns</p>\n",
       "</div>"
      ],
      "text/plain": [
       "                                                 title  \\\n",
       "0                                            El tiempo   \n",
       "1                                      El nuevo tiempo   \n",
       "2                                            El tiempo   \n",
       "3                          Salome, princesa de Galilea   \n",
       "4                           El General en su laberinto   \n",
       "..                                                 ...   \n",
       "104  Republica de Colombia: Simon Bolivar, presiden...   \n",
       "105  Simon Bolivar, presidente libertador de la Col...   \n",
       "106  Acuerdo final para la terminación del conflict...   \n",
       "107                                      El Colombiano   \n",
       "108                                              Mujer   \n",
       "\n",
       "                           author resource                   genre  \\\n",
       "0                         No data     text                    text   \n",
       "1                         No data     text                 No data   \n",
       "2                         No data     text              Newspapers   \n",
       "3                   Denker, Henry     text                 No data   \n",
       "4       García Márquez, Gabriel     text                 Fiction   \n",
       "..                            ...      ...                     ...   \n",
       "104              Bolívar, Simón     text  government publication   \n",
       "105              Bolívar, Simón     text  government publication   \n",
       "106                      Colombia     text  government publication   \n",
       "107                       No data     text                 No data   \n",
       "108  Sánchez Sánchez, Alejandra     text             still image   \n",
       "\n",
       "                    place                                          publisher  \\\n",
       "0       Bogotá, Colombia                                      A.V. Restrepo   \n",
       "1                  Bogotá                          Ismael Enrique Arciniegas   \n",
       "2        Bogotá, Colombia                                     R. Garcia-Peña   \n",
       "3                  Bogotá                                             Edicol   \n",
       "4        Bogotá, Colombia                              Editorial Oveja Negra   \n",
       "..                    ...                                                ...   \n",
       "104  [Bogotá, Colombia] :                        [publisher not identified],   \n",
       "105    Bogotá, Colombia :                      Imp. de M.M. Viller-Calderon,   \n",
       "106                Bogata  Ministerio de Cultura-Biblioteca Nacional de C...   \n",
       "107    Medellín, Colombia                                      F.G. Martinez   \n",
       "108   Bogotá, Colombia :                                    Ediciones USTA,   \n",
       "\n",
       "            date                                    content  \\\n",
       "0    1911 - 1955         45 volumes : illustrations ; 57 cm   \n",
       "1    1902 - uuuu                                  v. : ill.   \n",
       "2    1957 - 9999                         v. : ill. ; 58 cm.   \n",
       "3           1973                            270 p. ; 18 cm.   \n",
       "4           1989  284 p., [1] leaf of plates : map ; 23 cm.   \n",
       "..           ...                                        ...   \n",
       "104         1826   1 sheet (1 unnumbered page) ; 31 x 22 cm   \n",
       "105         1826   1 sheet (1 unnumbered page) ; 31 x 22 cm   \n",
       "106         2016               [2], 283, [7] pages ; 28 cm.   \n",
       "107  1912 - 9999                          1 online resource   \n",
       "108         2019        [10] leaves : illustrations ; 25 cm   \n",
       "\n",
       "                       topic                                      repository  \n",
       "0       Rites and ceremonies             Widener Library, Harvard University  \n",
       "1       Rites and ceremonies             Widener Library, Harvard University  \n",
       "2                Périodiques                                         No data  \n",
       "3                    No data             Widener Library, Harvard University  \n",
       "4                    No Data            Houghton Library, Harvard University  \n",
       "..                       ...                                             ...  \n",
       "104                  History            Houghton Library, Harvard University  \n",
       "105                  History            Houghton Library, Harvard University  \n",
       "106  Politics and government  Harvard Law School Library, Harvard University  \n",
       "107                  No data                                         No data  \n",
       "108     Rites and ceremonies             Widener Library, Harvard University  \n",
       "\n",
       "[109 rows x 10 columns]"
      ]
     },
     "execution_count": 666,
     "metadata": {},
     "output_type": "execute_result"
    }
   ],
   "source": [
    "df[\"title\"] = titles\n",
    "df[\"author\"] = authors\n",
    "df[\"resource\"] = resources\n",
    "df[\"genre\"] = genres\n",
    "df[\"place\"] = places\n",
    "df[\"publisher\"] = publishers\n",
    "df[\"date\"] = dates\n",
    "df[\"content\"] = content\n",
    "df[\"topic\"] = subjects\n",
    "df[\"repository\"] = repositories\n",
    "df"
   ]
  },
  {
   "cell_type": "code",
   "execution_count": 668,
   "metadata": {},
   "outputs": [],
   "source": [
    "df.to_csv('harvard_repository.csv', index=False)"
   ]
  },
  {
   "cell_type": "code",
   "execution_count": null,
   "metadata": {},
   "outputs": [],
   "source": []
  }
 ],
 "metadata": {
  "kernelspec": {
   "display_name": "Python 3",
   "language": "python",
   "name": "python3"
  },
  "language_info": {
   "codemirror_mode": {
    "name": "ipython",
    "version": 3
   },
   "file_extension": ".py",
   "mimetype": "text/x-python",
   "name": "python",
   "nbconvert_exporter": "python",
   "pygments_lexer": "ipython3",
   "version": "3.10.11"
  },
  "orig_nbformat": 4
 },
 "nbformat": 4,
 "nbformat_minor": 2
}
